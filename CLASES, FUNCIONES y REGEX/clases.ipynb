{
 "cells": [
  {
   "attachments": {},
   "cell_type": "markdown",
   "metadata": {},
   "source": [
    "### Ejercicio:\n",
    "- Definid una clase que se llame Empleados\n",
    "- Definid los siguientes atributos que caracterizan a nuestros empleados:\n",
    "  - nombre\n",
    "  - apellido\n",
    "  - edad\n",
    "  - posición que ocupa en la empresa\n",
    "  - año en que entró en la empresa\n",
    "  - número de días de vacaciones que tiene\n",
    "  - Las herramientas que usa cada uno de ellos, por ejemplo, Outlook, excel y word. Deberá ser una lista.\n",
    "- Cread una instancia para la clase creada\n",
    "- Definid los siguientes métodos:\n",
    "  - descripción\n",
    "  - calculo_vacaciones\n",
    "  - cambiando_posicion"
   ]
  },
  {
   "cell_type": "code",
   "execution_count": 1,
   "metadata": {},
   "outputs": [],
   "source": [
    "class Empleados:\n",
    "\n",
    "# La clase empleados es un código para organizar la información de los empleados de la empresa.\n",
    "# Toma como atributos: \n",
    "#                    - nombre del empleado.\n",
    "#                    - apellido del empleado.\n",
    "#                    - edad del empleado.\n",
    "#                    - posición que ocupa en la empresa.\n",
    "#                    - año que entró en la empresa.\n",
    "#                    - días de vacaciones que tiene.\n",
    "#                    - herramientas que sabe utilizar y emplea.\n",
    "#\n",
    "#Estos atributos son los que utilizaremos para definir los métodos de:\n",
    "#                                                                     - descripcion() Nos da una breve descripción del empleado con los datos más característicos a nivel coloquial.\n",
    "#                                                                     - calculo_de_vacaciones() Sirve para que el empleado pueda chequear los días que se quiere ir de vacaciones y quede registrado.\n",
    "#                                                                     - cambiando_posicion() chequea si el empleado utiliza Python y si usa Excel le sugerimos que cambie su opción por Python.\n",
    "\n",
    "\n",
    "\n",
    "    def __init__(self, nombre, apellido, edad, posicion_que_ocupa, año_que_entro, dias_de_vacaciones, herramientas):\n",
    "        self.nombre = nombre\n",
    "        self.apellido = apellido\n",
    "        self.edad = edad\n",
    "        self.posicion_que_ocupa = posicion_que_ocupa\n",
    "        self.año_que_entro = año_que_entro\n",
    "        self.dias_de_vacaciones =  dias_de_vacaciones\n",
    "        self.herramientas = herramientas\n",
    "        \n",
    "        \n",
    "    \n",
    "    def descripcion(self):\n",
    "        return f\"{self.nombre} {self.apellido}. Su puesto es el de {self.posicion_que_ocupa}, lleva trabajando con nosotros desde {self.año_que_entro} y le quedan {self.dias_de_vacaciones} días de vacaciones.\"\n",
    "\n",
    "    def calculo_de_vacaciones(self):\n",
    "        pregunta = int(input(\"¿Cuántos días de vacaciones te quieres ir?\"))\n",
    "\n",
    "        if self.dias_de_vacaciones == 0:\n",
    "            return f\"Lo siento mucho pero tus vacaciones para este año se han acabado\"\n",
    "        elif pregunta > self.dias_de_vacaciones:\n",
    "            return f\"Lo siento mucho pero no te puedes ir tantos días, ya que los días que te quedan son {self.dias_de_vacaciones}\"\n",
    "        else:\n",
    "            self.dias_de_vacaciones = self.dias_de_vacaciones - pregunta\n",
    "            return f\"¡Genial! Disfruta de tus vacaciones. Después de esto te quedan {self.dias_de_vacaciones}\"\n",
    "\n",
    "    def cambiando_posicion(self):\n",
    "        for i in self.herramientas:\n",
    "            if i == \"Python\" or i == \"PYTHON\" or i == \"python\":\n",
    "                return f\"¡Bien hecho por saber usar Python!\"\n",
    "            if i == \"Excel\" or i == \"excel\" or i == \"EXCEL\":\n",
    "                return f\"¿No te gustaría empezar a usar Python en vez de Excel?\""
   ]
  },
  {
   "cell_type": "code",
   "execution_count": 3,
   "metadata": {},
   "outputs": [],
   "source": [
    "carlota = Empleados(\"Carlota\",\"Fernandez\",39,\"Data Analyst\",2012,28,[\"outlook\",\"excel\",\"word\",\"illustrator\"])"
   ]
  },
  {
   "cell_type": "code",
   "execution_count": 6,
   "metadata": {},
   "outputs": [
    {
     "data": {
      "text/plain": [
       "39"
      ]
     },
     "execution_count": 6,
     "metadata": {},
     "output_type": "execute_result"
    }
   ],
   "source": [
    "carlota.edad"
   ]
  },
  {
   "cell_type": "code",
   "execution_count": 27,
   "metadata": {},
   "outputs": [
    {
     "data": {
      "text/plain": [
       "'Carlota Fernandez. Su puesto es el de Data Analyst, lleva trabajando con nosotros desde 2012 y le quedan 28 días de vacaciones.'"
      ]
     },
     "execution_count": 27,
     "metadata": {},
     "output_type": "execute_result"
    }
   ],
   "source": [
    "carlota.descripcion()"
   ]
  },
  {
   "cell_type": "code",
   "execution_count": 38,
   "metadata": {},
   "outputs": [
    {
     "data": {
      "text/plain": [
       "'¡Genial! Disfruta de tus vacaciones. Después de esto te quedan 10'"
      ]
     },
     "execution_count": 38,
     "metadata": {},
     "output_type": "execute_result"
    }
   ],
   "source": [
    "carlota.calculo_de_vacaciones()"
   ]
  },
  {
   "cell_type": "code",
   "execution_count": 4,
   "metadata": {},
   "outputs": [
    {
     "data": {
      "text/plain": [
       "'¿No te gustaría empezar a usar Python en vez de Excel?'"
      ]
     },
     "execution_count": 4,
     "metadata": {},
     "output_type": "execute_result"
    }
   ],
   "source": [
    "carlota.cambiando_posicion()"
   ]
  }
 ],
 "metadata": {
  "kernelspec": {
   "display_name": "Python 3.9.7 ('base')",
   "language": "python",
   "name": "python3"
  },
  "language_info": {
   "codemirror_mode": {
    "name": "ipython",
    "version": 3
   },
   "file_extension": ".py",
   "mimetype": "text/x-python",
   "name": "python",
   "nbconvert_exporter": "python",
   "pygments_lexer": "ipython3",
   "version": "3.9.7"
  },
  "orig_nbformat": 4,
  "vscode": {
   "interpreter": {
    "hash": "b3191f930eabfdf0eb39086a24df618ea48425015dbb471465fb2c793fed20fd"
   }
  }
 },
 "nbformat": 4,
 "nbformat_minor": 2
}
