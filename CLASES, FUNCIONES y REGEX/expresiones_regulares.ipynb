{
 "cells": [
  {
   "cell_type": "markdown",
   "metadata": {},
   "source": [
    "Importamos las librerias necesarias para el ejercicio y abrimos el archivo."
   ]
  },
  {
   "cell_type": "code",
   "execution_count": 1,
   "metadata": {},
   "outputs": [],
   "source": [
    "import re\n",
    "import os"
   ]
  },
  {
   "cell_type": "code",
   "execution_count": 3,
   "metadata": {},
   "outputs": [],
   "source": [
    "ubicacionactual = os.getcwd()"
   ]
  },
  {
   "cell_type": "code",
   "execution_count": 4,
   "metadata": {},
   "outputs": [
    {
     "data": {
      "text/plain": [
       "'g:\\\\00 ADALAB CURSO\\\\MODULO 1\\\\00 BACKUP\\\\00 CON MARTA\\\\Python'"
      ]
     },
     "execution_count": 4,
     "metadata": {},
     "output_type": "execute_result"
    }
   ],
   "source": [
    "ubicacionactual"
   ]
  },
  {
   "cell_type": "code",
   "execution_count": 5,
   "metadata": {},
   "outputs": [],
   "source": [
    "ubicacion_archivo = ubicacionactual +\"/datos\""
   ]
  },
  {
   "cell_type": "code",
   "execution_count": 6,
   "metadata": {},
   "outputs": [],
   "source": [
    "ubicacion_archivo = ubicacion_archivo + \"/email.txt\""
   ]
  },
  {
   "cell_type": "code",
   "execution_count": 9,
   "metadata": {},
   "outputs": [],
   "source": [
    "archivo = open(ubicacion_archivo).read()"
   ]
  },
  {
   "cell_type": "code",
   "execution_count": 10,
   "metadata": {},
   "outputs": [
    {
     "data": {
      "text/plain": [
       "'\\nThu Oct 31 08:11:39 2002\\n    Return-Path: <bensul2004nng@spinfinder.com>\\n    X-Sieve: cmu-sieve 2.0\\n    Return-Path: <bensul2004nng@spinfinder.com>\\n    Message-Id: <200210311310.g9VDANt24674@bloodwork.mr.itd.UM>\\n    From: \"Mr. Ben Suleman\" <bensul2004nng@spinfinder.com>\\n    Date: Thu, 31 Oct 2002 05:10:00\\n    To: R@M\\n    Subject: URGENT ASSISTANCE /RELATIONSHIP (P)\\n    MIME-Version: 1.0\\n    Content-Type: text/plain;charset=\"iso-8859-1\"\\n    Content-Transfer-Encoding: 7bit\\n    Status: O\\n\\n    Dear Friend,\\n\\n    I am Mr. Ben Suleman a custom officer and work as Assistant controller of the Customs and Excise department Of the Federal Ministry of Internal Affairs stationed at the Murtala Mohammed International Airport, Ikeja, Lagos-Nigeria.\\n\\n    After the sudden death of the former Head of state of Nigeria General Sanni Abacha on June 8th 1998 his aides and immediate members of his family were arrested while trying to escape from Nigeria in a Chartered jet to Saudi Arabia with 6 trunk boxes Marked \"Diplomatic Baggage\". Acting on a tip-off as they attempted to board the Air Craft,my officials carried out a thorough search on the air craft and discovered that the 6 trunk boxes contained foreign currencies amounting to US$197,570,000.00(One Hundred and  Ninety-Seven Million Five Hundred Seventy Thousand United States Dollars).\\n\\n    I declared only (5) five boxes to the government and withheld one (1) in my custody containing the sum of (US$30,000,000.00) Thirty Million United States Dollars Only, which has been disguised to prevent their being discovered during transportation process.Due to several media reports on the late head of state about all the money him and his co-government officials stole from our government treasury amounting\\n    to US$55 Billion Dollars (ref:ngrguardiannews.com) of July 2nd 1999. Even the London times of July 1998 reported that General Abacha has over US$3.Billion dollars in one account overseas. We decided to conceal this one (1)box till the situation is calm and quite on the issue. The box was thus deposited with a security company here in Nigeria and tagged as \"Precious Stones and Jewellry\" in other that its\\n    content will not be discovered. Now that all is calm, we (myself and two of my colleagues in the operations team) are now ready to move this box out of the country through a diplomatic arrangement which is the safest means. \\n\\n    However as government officials the Civil Service Code of Conduct does not allow us by law to operate any foreign account or own foreign investment and the amount of money that can be found in our account\\n    cannot be more than our salary on the average, thus our handicapp and our need for your assistance to help collect and keep safely in your account this money.\\n\\n    Therefore we want you to assist us in moving this money out of Nigeria. We shall definitely compensate you handsomely for the assistance. We can do this by instructing the Security Company here in Nigeria to\\n    move the consignment to their affiliate branch office outside Nigeria through diplomatic means and the consignment will be termed as Precious Stones and Jewelleries\" which you bought during your visit to Nigeria and is being transfered to your country from here for safe keeping. Then we can arrange to meet at the destination country to take the delivery of the consignment. You will thereafter open an account there and lodge the Money there and gradually instruct remittance to your Country. \\n\\n    This business is 100% risk free for you so please treat this matter with utmost confidentiality .If you indicate your interest to assist us please just e-mail me for more Explanation on how we plan to execute the transaction.\\n\\n    Expecting your response urgently.\\n\\n    Best regards,\\n\\n    Mr. Ben Suleman\\n\\n    Wed Oct 30 21:41:56 2002\\n    Return-Path: <james_ngola2002@maktoob.com>\\n    X-Sieve: cmu-sieve 2.0\\n    Return-Path: <james_ngola2002@maktoob.com>\\n    Message-Id: <200210310241.g9V2fNm6028281@cs.CU>\\n    From: \"MR. JAMES NGOLA.\" <james_ngola2002@maktoob.com>\\n    Reply-To: james_ngola2002@maktoob.com\\n    To: webmaster@aclweb.org\\n    Date: Thu, 31 Oct 2002 02:38:20 +0000\\n    Subject: URGENT BUSINESS ASSISTANCE AND PARTNERSHIP\\n    X-Mailer: Microsoft Outlook Express 5.00.2919.6900 DM\\n    MIME-Version: 1.0\\n    Content-Type: text/plain; charset=\"us-ascii\"\\n    Content-Transfer-Encoding: 8bit\\n    X-MIME-Autoconverted: from quoted-printable to 8bit by sideshowmel.si.UM id g9V2foW24311\\n    Status: O\\n\\n    CONFIDENTIAL TEL: 233-27-587908.\\n    E-MAIL: (james_ngola2002@maktoob.com).\\n\\n    URGENT BUSINESS ASSISTANCE AND PARTNERSHIP.\\n\\n\\n    DEAR FRIEND,\\n\\n    I AM ( DR.) JAMES NGOLA, THE PERSONAL ASSISTANCE TO THE LATE CONGOLESE (PRESIDENT LAURENT KABILA) WHO WAS ASSASSINATED BY HIS BODY GUARD ON 16TH JAN. 2001.\\n\\n\\n    THE INCIDENT OCCURRED IN OUR PRESENCE WHILE WE WERE HOLDING MEETING WITH HIS EXCELLENCY OVER THE FINANCIAL RETURNS FROM THE DIAMOND SALES IN THE AREAS CONTROLLED BY (D.R.C.) DEMOCRATIC REPUBLIC OF CONGO FORCES AND THEIR FOREIGN ALLIES ANGOLA AND ZIMBABWE, HAVING RECEIVED THE PREVIOUS DAY (USD$100M) ONE HUNDRED MILLION UNITED STATES DOLLARS, CASH IN THREE DIPLOMATIC BOXES ROUTED THROUGH ZIMBABWE.\\n\\n    MY PURPOSE OF WRITING YOU THIS LETTER IS TO SOLICIT FOR YOUR ASSISTANCE AS TO BE A COVER TO THE FUND AND ALSO COLLABORATION IN MOVING THE SAID FUND INTO YOUR BANK ACCOUNT THE SUM OF (USD$25M) TWENTY FIVE MILLION UNITED STATES DOLLARS ONLY, WHICH I DEPOSITED WITH A SECURITY COMPANY IN GHANA, IN A DIPLOMATIC BOX AS GOLDS WORTH (USD$25M) TWENTY FIVE MILLION UNITED STATES DOLLARS ONLY FOR SAFE KEEPING IN A SECURITY VAULT FOR ANY FURTHER INVESTMENT PERHAPS IN YOUR COUNTRY. \\n\\n    YOU WERE INTRODUCED TO ME BY A RELIABLE FRIEND OF MINE WHO IS A TRAVELLER,AND ALSO A MEMBER OF CHAMBER OF COMMERCE AS A RELIABLE AND TRUSTWORTHY PERSON WHOM I CAN RELY ON AS FOREIGN PARTNER, EVEN THOUGH THE NATURE OF THE TRANSACTION WAS NOT REVEALED TO HIM FOR SECURITY REASONS.\\n\\n\\n    THE (USD$25M) WAS PART OF A PROCEEDS FROM DIAMOND TRADE MEANT FOR THE LATE PRESIDENT LAURENT KABILA WHICH WAS DELIVERED THROUGH ZIMBABWE IN DIPLOMATIC BOXES. THE BOXES WERE KEPT UNDER MY CUSTODY BEFORE THE SAD EVENT THAT TOOK THE LIFE OF (MR. PRESIDENT).THE CONFUSION THAT ENSUED AFTER THE ASSASSINATION AND THE SPORADIC SHOOTING AMONG THE FACTIONS, I HAVE TO RUN AWAY FROM THE COUNTRY FOR MY DEAR LIFE AS I AM NOT A SOLDIER BUT A CIVIL SERVANT I CROSSED RIVER CONGO TO OTHER SIDE OF CONGO LIBREVILLE FROM THERE I MOVED TO THE THIRD COUNTRY GHANA WHERE I AM PRESENTLY TAKING REFUGE. \\n\\n    AS A MATTER OF FACT, WHAT I URGENTLY NEEDED FROM YOU IS YOUR ASSISTANCE IN MOVING THIS MONEY INTO YOUR ACCOUNT IN YOUR COUNTRY FOR INVESTMENT WITHOUT RAISING EYEBROW. FOR YOUR ASSISTANCE I WILL GIVE YOU 20% OF THE TOTAL SUM AS YOUR OWN SHARE WHEN THE MONEY GETS TO YOUR ACCOUNT, WHILE 75% WILL BE FOR ME, OF WHICH WITH YOUR KIND ADVICE I HOPE TO INVEST IN PROFITABLE VENTURE IN YOUR COUNTRY IN OTHER TO SETTLE DOWN FOR MEANINGFUL LIFE, AS I AM TIRED OF LIVING IN A WAR ENVIRONMENT. \\n\\n    THE REMAINING 5% WILL BE USED TO OFFSET ANY COST INCURRED IN THE CAUSE OF MOVING THE MONEY TO YOUR ACCOUNT. IF THE PROPOSAL IS ACCEPTABLE TO YOU PLEASE CONTACT ME IMMEDIATELY THROUGH THE ABOVE TELEPHONE AND E-MAIL, TO ENABLE ME ARRANGE FACE TO FACE MEETING WITH YOU IN GHANA FOR THE CLEARANCE OF THE FUNDS BEFORE TRANSFRING IT TO YOUR BANK ACCOUNT AS SEEING IS BELIEVING. \\n\\n    FINALLY, IT IS IMPORTANT ALSO THAT I LET YOU UNDERSTAND THAT THERE IS NO RISK INVOLVED WHATSOEVER AS THE MONEY HAD NO RECORD IN KINSHASA FOR IT WAS MEANT FOR THE PERSONAL USE OF (MR. PRESIDEND ) BEFORE THE NEFARIOUS INCIDENT OCCURRED, AND ALSO I HAVE ALL THE NECESSARY DOCUMENTS AS REGARDS TO THE FUNDS INCLUDING THE (CERTIFICATE OF DEPOSIT), AS I AM THE DEPOSITOR OF THE CONSIGNMENT.\\n\\n\\n    LOOKING FORWARD TO YOUR URGENT RESPONSE.\\n\\n    YOUR SINCERELY,\\n\\n    MR. JAMES NGOLA. \\n\\n'"
      ]
     },
     "execution_count": 10,
     "metadata": {},
     "output_type": "execute_result"
    }
   ],
   "source": [
    "archivo"
   ]
  },
  {
   "cell_type": "markdown",
   "metadata": {},
   "source": [
    "1- Extraer el email de la persona que envió el email (os deberían salir 2)"
   ]
  },
  {
   "cell_type": "code",
   "execution_count": 11,
   "metadata": {},
   "outputs": [],
   "source": [
    "info_remitente = re.findall('From:.*',archivo)"
   ]
  },
  {
   "cell_type": "code",
   "execution_count": 13,
   "metadata": {},
   "outputs": [
    {
     "data": {
      "text/plain": [
       "['From: \"Mr. Ben Suleman\" <bensul2004nng@spinfinder.com>',\n",
       " 'From: \"MR. JAMES NGOLA.\" <james_ngola2002@maktoob.com>']"
      ]
     },
     "execution_count": 13,
     "metadata": {},
     "output_type": "execute_result"
    }
   ],
   "source": [
    "info_remitente"
   ]
  },
  {
   "cell_type": "code",
   "execution_count": 14,
   "metadata": {},
   "outputs": [],
   "source": [
    "patronemail = \"(\\w+@\\w+\\.\\w+)\""
   ]
  },
  {
   "cell_type": "code",
   "execution_count": 15,
   "metadata": {},
   "outputs": [],
   "source": [
    "email1 = re.findall(patronemail,info_remitente[0])"
   ]
  },
  {
   "cell_type": "code",
   "execution_count": 16,
   "metadata": {},
   "outputs": [],
   "source": [
    "email2 = re.findall(patronemail,info_remitente[1])"
   ]
  },
  {
   "cell_type": "code",
   "execution_count": 17,
   "metadata": {},
   "outputs": [
    {
     "name": "stdout",
     "output_type": "stream",
     "text": [
      "['bensul2004nng@spinfinder.com']\n",
      "['james_ngola2002@maktoob.com']\n"
     ]
    }
   ],
   "source": [
    "# Los emails resultantes son:\n",
    "\n",
    "print(email1)\n",
    "print(email2)"
   ]
  },
  {
   "cell_type": "markdown",
   "metadata": {},
   "source": [
    "2 - Extraer el nombre de la persona que envió el email (os deberían salir 2)"
   ]
  },
  {
   "cell_type": "code",
   "execution_count": 18,
   "metadata": {},
   "outputs": [],
   "source": [
    "info_remitente = re.findall('From:.*',archivo)"
   ]
  },
  {
   "cell_type": "code",
   "execution_count": 19,
   "metadata": {},
   "outputs": [
    {
     "data": {
      "text/plain": [
       "['From: \"Mr. Ben Suleman\" <bensul2004nng@spinfinder.com>',\n",
       " 'From: \"MR. JAMES NGOLA.\" <james_ngola2002@maktoob.com>']"
      ]
     },
     "execution_count": 19,
     "metadata": {},
     "output_type": "execute_result"
    }
   ],
   "source": [
    "info_remitente"
   ]
  },
  {
   "cell_type": "code",
   "execution_count": 20,
   "metadata": {},
   "outputs": [],
   "source": [
    "patronnombre = '[\"]\\w+\\.\\s[A-Z]*\\w+\\s[A-Z]*\\w+[\"]'"
   ]
  },
  {
   "cell_type": "code",
   "execution_count": 21,
   "metadata": {},
   "outputs": [
    {
     "name": "stdout",
     "output_type": "stream",
     "text": [
      "['\"Mr. Ben Suleman\"']\n"
     ]
    }
   ],
   "source": [
    "nombre1 = re.findall(patronnombre,info_remitente[0])\n",
    "print (nombre1)\n"
   ]
  },
  {
   "cell_type": "code",
   "execution_count": 22,
   "metadata": {},
   "outputs": [],
   "source": [
    "patronnombre2 = '[\"]\\w+\\.\\s\\w+\\s\\w+\\.[\"]'"
   ]
  },
  {
   "cell_type": "code",
   "execution_count": 23,
   "metadata": {},
   "outputs": [
    {
     "name": "stdout",
     "output_type": "stream",
     "text": [
      "['\"MR. JAMES NGOLA.\"']\n"
     ]
    }
   ],
   "source": [
    "nombre2 = re.findall(patronnombre2,info_remitente[1])\n",
    "print(nombre2)"
   ]
  },
  {
   "cell_type": "markdown",
   "metadata": {},
   "source": [
    "3 - El día en el que se mandó el email (os deberían salir 2)"
   ]
  },
  {
   "cell_type": "code",
   "execution_count": 24,
   "metadata": {},
   "outputs": [
    {
     "name": "stdout",
     "output_type": "stream",
     "text": [
      "['Date: Thu, 31 Oct 2002 05:10:00', 'Date: Thu, 31 Oct 2002 02:38:20 +0000']\n"
     ]
    }
   ],
   "source": [
    "info_fecha = re.findall('Date:.*',archivo)\n",
    "print(info_fecha)"
   ]
  },
  {
   "cell_type": "markdown",
   "metadata": {},
   "source": [
    "4 - El asunto del email (os deberían salir 2)"
   ]
  },
  {
   "cell_type": "code",
   "execution_count": 25,
   "metadata": {},
   "outputs": [
    {
     "name": "stdout",
     "output_type": "stream",
     "text": [
      "['Subject: URGENT ASSISTANCE /RELATIONSHIP (P)', 'Subject: URGENT BUSINESS ASSISTANCE AND PARTNERSHIP']\n"
     ]
    }
   ],
   "source": [
    "info_asunto = re.findall('Subject:.*',archivo)\n",
    "print(info_asunto)"
   ]
  },
  {
   "cell_type": "code",
   "execution_count": 26,
   "metadata": {},
   "outputs": [],
   "source": [
    "patron_asunto = \"[^Subject:]\\w+\\s\\w+\\s.\\w+\" "
   ]
  },
  {
   "cell_type": "code",
   "execution_count": 27,
   "metadata": {},
   "outputs": [
    {
     "name": "stdout",
     "output_type": "stream",
     "text": [
      "[' URGENT ASSISTANCE /RELATIONSHIP']\n"
     ]
    }
   ],
   "source": [
    "asunto1 = re.findall(patron_asunto,info_asunto[0])\n",
    "print(asunto1)"
   ]
  },
  {
   "cell_type": "code",
   "execution_count": 28,
   "metadata": {},
   "outputs": [],
   "source": [
    "patron_asunto2 = \"[^Subject:\\s]\\w+\\s\\w+\\s\\w+\\s\\w+\\s\\w+\""
   ]
  },
  {
   "cell_type": "code",
   "execution_count": 29,
   "metadata": {},
   "outputs": [
    {
     "name": "stdout",
     "output_type": "stream",
     "text": [
      "['URGENT BUSINESS ASSISTANCE AND PARTNERSHIP']\n"
     ]
    }
   ],
   "source": [
    "asunto2 = re.findall(patron_asunto2,info_asunto[1])\n",
    "print(asunto2)"
   ]
  },
  {
   "cell_type": "markdown",
   "metadata": {},
   "source": [
    "5 - Guarda todos los resultados en un diccionario"
   ]
  },
  {
   "cell_type": "code",
   "execution_count": 30,
   "metadata": {},
   "outputs": [],
   "source": [
    "diccionario_de_resultados = {}\n",
    "\n",
    "diccionario_de_resultados['emails']= email1,email2\n",
    "diccionario_de_resultados['nombres']= nombre1,nombre2\n",
    "diccionario_de_resultados['fecha'] = info_fecha\n",
    "diccionario_de_resultados['asunto'] = asunto1, asunto2\n",
    "\n"
   ]
  },
  {
   "cell_type": "code",
   "execution_count": 31,
   "metadata": {},
   "outputs": [
    {
     "data": {
      "text/plain": [
       "{'emails': (['bensul2004nng@spinfinder.com'], ['james_ngola2002@maktoob.com']),\n",
       " 'nombres': (['\"Mr. Ben Suleman\"'], ['\"MR. JAMES NGOLA.\"']),\n",
       " 'fecha': ['Date: Thu, 31 Oct 2002 05:10:00',\n",
       "  'Date: Thu, 31 Oct 2002 02:38:20 +0000'],\n",
       " 'asunto': ([' URGENT ASSISTANCE /RELATIONSHIP'],\n",
       "  ['URGENT BUSINESS ASSISTANCE AND PARTNERSHIP'])}"
      ]
     },
     "execution_count": 31,
     "metadata": {},
     "output_type": "execute_result"
    }
   ],
   "source": [
    "diccionario_de_resultados"
   ]
  },
  {
   "cell_type": "markdown",
   "metadata": {},
   "source": [
    "BONUS: Utiliza funciones para cada una de los objetivos planteados.\n",
    "#como ya los hemos hehco vamos a crear las funciones ahora."
   ]
  },
  {
   "cell_type": "code",
   "execution_count": 34,
   "metadata": {},
   "outputs": [],
   "source": [
    "def encuentra_email(texto):\n",
    "    info_remitente = re.findall('From:.*',texto)\n",
    "    patronemail = \"(\\w+@\\w+\\.\\w+)\"\n",
    "    \n",
    "    for x in info_remitente:\n",
    "        emails = re.findall(patronemail,x)\n",
    "    \n",
    "    return emails"
   ]
  },
  {
   "cell_type": "code",
   "execution_count": 35,
   "metadata": {},
   "outputs": [
    {
     "data": {
      "text/plain": [
       "['james_ngola2002@maktoob.com']"
      ]
     },
     "execution_count": 35,
     "metadata": {},
     "output_type": "execute_result"
    }
   ],
   "source": [
    "encuentra_email(archivo)"
   ]
  },
  {
   "cell_type": "code",
   "execution_count": 36,
   "metadata": {},
   "outputs": [],
   "source": [
    "def encuentra_nombres(texto):\n",
    "    info_remitente = re.findall('From:.*',texto)\n",
    "    patronnombre3 = '[\"]\\w+[\"]'\n",
    "    patronnombre2 = '[\"]\\w+\\.\\s\\w+\\s\\w+\\.*[\"]'\n",
    "    patronnombre1 = '[\"]\\w+\\.\\s\\w+\\s\\w+*[\"]'\n",
    "    \n",
    "    for x in info_remitente:\n",
    "        nombre1 = re.findall(patronnombre1,x)\n",
    "    \n",
    "    for x in info_remitente:\n",
    "        nombre2 = re.findall(patronnombre2,x)\n",
    "\n",
    "    return nombre1, nombre2\n",
    "    "
   ]
  },
  {
   "cell_type": "code",
   "execution_count": null,
   "metadata": {},
   "outputs": [],
   "source": [
    "encuentra_nombres(archivo)"
   ]
  },
  {
   "cell_type": "code",
   "execution_count": null,
   "metadata": {},
   "outputs": [],
   "source": [
    "def encuentra_fecha(texto):\n",
    "    info_fecha = re.findall('Date:.*',texto)\n",
    "    patron_fecha = \"\\w+,\\s[0-9]{2}\\s\\w+\\s[0-9]{4}\"\n",
    "\n",
    "    for x in info_fecha:\n",
    "        fecha = re.findall(patron_fecha,x)\n",
    "\n",
    "    return fecha\n",
    "    "
   ]
  },
  {
   "cell_type": "code",
   "execution_count": null,
   "metadata": {},
   "outputs": [
    {
     "data": {
      "text/plain": [
       "['Thu, 31 Oct 2002']"
      ]
     },
     "execution_count": 36,
     "metadata": {},
     "output_type": "execute_result"
    }
   ],
   "source": [
    "encuentra_fecha(archivo)"
   ]
  },
  {
   "cell_type": "code",
   "execution_count": null,
   "metadata": {},
   "outputs": [],
   "source": [
    "def encuentra_asunto(texto):\n",
    "    info_asunto = re.findall('Subject:.*',texto)\n",
    "    patron_asunto = \"[^Subject:]\\w+\\s\\w+\\s.\\w+\"\n",
    "    patron_asunto2 = \"[^Subject:\\s]\\w+\\s\\w+\\s\\w+\\s\\w+\\s\\w+\"\n",
    "\n",
    "    for x in info_asunto:\n",
    "            asunto1 = re.findall(patron_asunto,x)\n",
    "    \n",
    "    \n",
    "    for x in info_asunto:\n",
    "        asunto2 = re.findall(patron_asunto2,x)\n",
    "\n",
    "    return asunto1, asunto2\n",
    "    \n",
    "    "
   ]
  },
  {
   "cell_type": "code",
   "execution_count": null,
   "metadata": {},
   "outputs": [
    {
     "data": {
      "text/plain": [
       "([' URGENT BUSINESS ASSISTANCE'],\n",
       " ['URGENT BUSINESS ASSISTANCE AND PARTNERSHIP'])"
      ]
     },
     "execution_count": 38,
     "metadata": {},
     "output_type": "execute_result"
    }
   ],
   "source": [
    "encuentra_asunto(archivo)"
   ]
  }
 ],
 "metadata": {
  "kernelspec": {
   "display_name": "Python 3.10.7 64-bit",
   "language": "python",
   "name": "python3"
  },
  "language_info": {
   "codemirror_mode": {
    "name": "ipython",
    "version": 3
   },
   "file_extension": ".py",
   "mimetype": "text/x-python",
   "name": "python",
   "nbconvert_exporter": "python",
   "pygments_lexer": "ipython3",
   "version": "3.10.7"
  },
  "orig_nbformat": 4,
  "vscode": {
   "interpreter": {
    "hash": "f0d0cdf5bbfc5bf143425a9ac8ca58b7235654eb99f7bbb57643934264c436bd"
   }
  }
 },
 "nbformat": 4,
 "nbformat_minor": 2
}
