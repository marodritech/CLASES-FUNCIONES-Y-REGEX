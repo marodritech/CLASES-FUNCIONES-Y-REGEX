{
 "cells": [
  {
   "cell_type": "markdown",
   "metadata": {},
   "source": [
    "Ejercicio 1, crea una función que convierta dos cadenas en int, las sume y devuelva el resultado en un str."
   ]
  },
  {
   "cell_type": "code",
   "execution_count": 22,
   "metadata": {},
   "outputs": [],
   "source": [
    "def convertir_y_sumar(a,b):\n",
    "    if a == \" \" or a == \"\":\n",
    "        a = 0\n",
    "    if b == \" \" or b == \"\":\n",
    "        b = 0\n",
    "   \n",
    "    a2 = int(a)\n",
    "    b2 = int(b)\n",
    "    c = a2 + b2\n",
    "    d = str(c)\n",
    "    return f\"La suma es de {d}\""
   ]
  },
  {
   "cell_type": "code",
   "execution_count": 19,
   "metadata": {},
   "outputs": [
    {
     "data": {
      "text/plain": [
       "'La suma es de 9'"
      ]
     },
     "execution_count": 19,
     "metadata": {},
     "output_type": "execute_result"
    }
   ],
   "source": [
    "convertir_y_sumar(\"4\",\"5\")"
   ]
  },
  {
   "cell_type": "code",
   "execution_count": 20,
   "metadata": {},
   "outputs": [
    {
     "data": {
      "text/plain": [
       "'La suma es de 39'"
      ]
     },
     "execution_count": 20,
     "metadata": {},
     "output_type": "execute_result"
    }
   ],
   "source": [
    "convertir_y_sumar(\"34\",\"5\")"
   ]
  },
  {
   "cell_type": "code",
   "execution_count": 23,
   "metadata": {},
   "outputs": [
    {
     "data": {
      "text/plain": [
       "'La suma es de 0'"
      ]
     },
     "execution_count": 23,
     "metadata": {},
     "output_type": "execute_result"
    }
   ],
   "source": [
    "convertir_y_sumar(\"\",\"\")"
   ]
  },
  {
   "cell_type": "code",
   "execution_count": 24,
   "metadata": {},
   "outputs": [
    {
     "data": {
      "text/plain": [
       "'La suma es de 2'"
      ]
     },
     "execution_count": 24,
     "metadata": {},
     "output_type": "execute_result"
    }
   ],
   "source": [
    "convertir_y_sumar(\"2\",\"\")"
   ]
  },
  {
   "cell_type": "code",
   "execution_count": 25,
   "metadata": {},
   "outputs": [
    {
     "data": {
      "text/plain": [
       "'La suma es de -2'"
      ]
     },
     "execution_count": 25,
     "metadata": {},
     "output_type": "execute_result"
    }
   ],
   "source": [
    "convertir_y_sumar(\"-5\",\"3\")"
   ]
  },
  {
   "cell_type": "markdown",
   "metadata": {},
   "source": [
    "Ejercicio 2, comparar 2 listas de números y devolver de cada par el número mayor."
   ]
  },
  {
   "cell_type": "code",
   "execution_count": 2,
   "metadata": {},
   "outputs": [],
   "source": [
    "arr1 = [13, 64, 15, 17, 88]\n",
    "arr2 = [23, 14, 53, 17, 80]"
   ]
  },
  {
   "cell_type": "code",
   "execution_count": 4,
   "metadata": {},
   "outputs": [],
   "source": [
    "def comparar_listas(x,y):\n",
    "    zip1 = zip(x,y)\n",
    " \n",
    "    lista_vacia = []\n",
    "    for n in zip1:\n",
    "        if n[0] > n[1]:\n",
    "            lista_vacia.append(n[0])\n",
    "        else:\n",
    "            lista_vacia.append(n[1])\n",
    "    return lista_vacia"
   ]
  },
  {
   "cell_type": "code",
   "execution_count": 5,
   "metadata": {},
   "outputs": [
    {
     "data": {
      "text/plain": [
       "[23, 64, 53, 17, 88]"
      ]
     },
     "execution_count": 5,
     "metadata": {},
     "output_type": "execute_result"
    }
   ],
   "source": [
    "comparar_listas(arr1,arr2)"
   ]
  },
  {
   "cell_type": "code",
   "execution_count": 1,
   "metadata": {},
   "outputs": [],
   "source": [
    "#Otra forma de hacer este ejercicio sería:\n",
    "\n",
    "def comparar_listas2(lista1,lista2):\n",
    "    lista_vacia = []\n",
    "    for x in range(len(lista1)):\n",
    "        if lista1[x] > lista2[x]:\n",
    "            lista_vacia.append(lista1[x])\n",
    "        else:\n",
    "            lista_vacia.append(lista2[x])\n",
    "    return lista_vacia"
   ]
  },
  {
   "cell_type": "code",
   "execution_count": 4,
   "metadata": {},
   "outputs": [
    {
     "data": {
      "text/plain": [
       "[23, 64, 53, 17, 88]"
      ]
     },
     "execution_count": 4,
     "metadata": {},
     "output_type": "execute_result"
    }
   ],
   "source": [
    "comparar_listas2(arr1,arr2)"
   ]
  },
  {
   "cell_type": "markdown",
   "metadata": {},
   "source": [
    "Ejercicio 3. Convertir carácteres de un string a \"(\" o \")\" dependiendo de si el caracter se repite en la cadena. No tiene que ser Case sensitive."
   ]
  },
  {
   "cell_type": "code",
   "execution_count": 6,
   "metadata": {},
   "outputs": [],
   "source": [
    "def conversor_de_palabras(cadena):\n",
    "    cadena_total = \"\"\n",
    "    for i in cadena:\n",
    "        if cadena.count(i) > 1:\n",
    "            i = \")\"\n",
    "            cadena_total += i\n",
    "        else:\n",
    "            i = \"(\"\n",
    "            cadena_total += i\n",
    "        \n",
    "    return cadena_total"
   ]
  },
  {
   "cell_type": "code",
   "execution_count": null,
   "metadata": {},
   "outputs": [],
   "source": [
    "#Probad la función para los siguientes strings \n",
    "\n",
    "#\"din\"      =>  \"(((\"\n",
    "#\"recede\"   =>  \"()()()\"\n",
    "#\"Success\"  =>  \")())())\"\n",
    "#\"(( @\"     =>  \"))((\" \n",
    "#\"Ocvl@GamFLAFkixkS\" => \"((()(()()))))(()(\""
   ]
  },
  {
   "cell_type": "code",
   "execution_count": 7,
   "metadata": {},
   "outputs": [
    {
     "data": {
      "text/plain": [
       "'((('"
      ]
     },
     "execution_count": 7,
     "metadata": {},
     "output_type": "execute_result"
    }
   ],
   "source": [
    "conversor_de_palabras(\"din\")"
   ]
  },
  {
   "cell_type": "code",
   "execution_count": 8,
   "metadata": {},
   "outputs": [
    {
     "data": {
      "text/plain": [
       "'()()()'"
      ]
     },
     "execution_count": 8,
     "metadata": {},
     "output_type": "execute_result"
    }
   ],
   "source": [
    "conversor_de_palabras(\"recede\")"
   ]
  },
  {
   "cell_type": "code",
   "execution_count": 9,
   "metadata": {},
   "outputs": [
    {
     "data": {
      "text/plain": [
       "'(())())'"
      ]
     },
     "execution_count": 9,
     "metadata": {},
     "output_type": "execute_result"
    }
   ],
   "source": [
    "conversor_de_palabras(\"Success\")"
   ]
  },
  {
   "cell_type": "code",
   "execution_count": 10,
   "metadata": {},
   "outputs": [
    {
     "data": {
      "text/plain": [
       "'))(('"
      ]
     },
     "execution_count": 10,
     "metadata": {},
     "output_type": "execute_result"
    }
   ],
   "source": [
    "conversor_de_palabras(\"(( @\")"
   ]
  },
  {
   "cell_type": "code",
   "execution_count": 10,
   "metadata": {},
   "outputs": [
    {
     "data": {
      "text/plain": [
       "'(((((((()(())(()('"
      ]
     },
     "execution_count": 10,
     "metadata": {},
     "output_type": "execute_result"
    }
   ],
   "source": [
    "conversor_de_palabras(\"Ocvl@GamFLAFkixkS\")"
   ]
  },
  {
   "cell_type": "markdown",
   "metadata": {},
   "source": [
    "Ejercio 4. Comparador de ingredientes con ingredientes necesarios para hacer 1 determinada receta."
   ]
  },
  {
   "cell_type": "code",
   "execution_count": 11,
   "metadata": {},
   "outputs": [],
   "source": [
    "receta1 = {'flour': 500, 'sugar': 200, 'eggs': 1}\n",
    "dic_ingredientes1 = {'flour': 1200, 'sugar': 1200, 'eggs': 5, 'milk': 200}\n",
    "\n",
    "receta2 = {'apples': 3, 'flour': 300, 'sugar': 150, 'milk': 100, 'oil': 100}\n",
    "dic_ingredientes2 = {'sugar': 500, 'flour': 2000, 'milk': 2000}\n",
    "\n",
    "\n",
    "#Hemos creado una tercera receta y lista de ingredientes para seguir testeando nuestro código, ya que en una de las primeras opciones nos hemos dado cuenta de que la \n",
    "#la receta 1 nos salía porque los ingredientes en ambas listas estaban en el mismo orden.\n",
    "receta3 = {'oranges': 6, 'flour': 300, 'sugar': 150, 'milk': 100, 'oil': 100, \"butter\": 50, \"lemon\": 1}\n",
    "dic_ingredientes3 = {'sugar': 500, 'flour': 2000, 'milk': 2000, 'oil': 100, \"butter\": 500, \"lemon\": 7, \"oranges\": 24}"
   ]
  },
  {
   "cell_type": "code",
   "execution_count": 12,
   "metadata": {},
   "outputs": [],
   "source": [
    "def podemos_cocinar(recipes, food):\n",
    "\n",
    "    set_recipes = set(recipes)\n",
    "    set_food = set(food)\n",
    "    \n",
    "    if set_recipes.issubset(set_food):\n",
    "\n",
    "        resultados = []\n",
    "        for x in set_recipes:\n",
    "                \n",
    "            if x in food.keys():\n",
    "                    \n",
    "                \n",
    "                resultados.append(food[x] // recipes[x])\n",
    "           \n",
    "                    \n",
    "            \n",
    "        return f\"Con los ingredientes que tienes puedes hacer un total de {min(resultados)} unidades. {resultados}\"\n",
    "\n",
    "    else:\n",
    "        return f\"No tienes los ingredientes correctos o los necesarios\"\n",
    "\n",
    "  "
   ]
  },
  {
   "cell_type": "code",
   "execution_count": 13,
   "metadata": {},
   "outputs": [
    {
     "data": {
      "text/plain": [
       "'Con los ingredientes que tienes puedes hacer un total de 2 unidades. [6, 5, 2]'"
      ]
     },
     "execution_count": 13,
     "metadata": {},
     "output_type": "execute_result"
    }
   ],
   "source": [
    "podemos_cocinar(receta1,dic_ingredientes1)"
   ]
  },
  {
   "cell_type": "code",
   "execution_count": 14,
   "metadata": {},
   "outputs": [
    {
     "data": {
      "text/plain": [
       "'No tienes los ingredientes correctos o los necesarios'"
      ]
     },
     "execution_count": 14,
     "metadata": {},
     "output_type": "execute_result"
    }
   ],
   "source": [
    "podemos_cocinar(receta2,dic_ingredientes2)"
   ]
  },
  {
   "cell_type": "code",
   "execution_count": 15,
   "metadata": {},
   "outputs": [
    {
     "data": {
      "text/plain": [
       "'Con los ingredientes que tienes puedes hacer un total de 1 unidades. [4, 3, 1, 6, 7, 20, 10]'"
      ]
     },
     "execution_count": 15,
     "metadata": {},
     "output_type": "execute_result"
    }
   ],
   "source": [
    "podemos_cocinar(receta3,dic_ingredientes3)"
   ]
  },
  {
   "cell_type": "markdown",
   "metadata": {},
   "source": [
    "Ejercicio 5 Escribid una función que va a ser una calculadora. La lista recibirá dos parámetros, una lista de números y un string con la operación que queremos hacer (puede ser \"*\", \"+\")\n"
   ]
  },
  {
   "cell_type": "code",
   "execution_count": 45,
   "metadata": {},
   "outputs": [],
   "source": [
    "lista_de_numeros = [11, 6, 98, 1, 2]\n",
    "\n",
    "lista_de_numeros_2 = [23,34, 56, 11, 90]\n",
    "\n",
    "lista_de_numeros_3 = [23, 4,109 , 94, 77]"
   ]
  },
  {
   "cell_type": "code",
   "execution_count": 46,
   "metadata": {},
   "outputs": [],
   "source": [
    "def calculadora(lista, operador):\n",
    "    \n",
    "    if operador == \"*\":\n",
    "        multiplicador = 1\n",
    "        for n in lista:\n",
    "            multiplicador *= n\n",
    "        return multiplicador\n",
    "    elif operador == \"+\":\n",
    "        sumador = 0\n",
    "        for n in lista:\n",
    "            sumador += n\n",
    "        return sumador\n",
    "    else:\n",
    "        return f\"Lo siento necesito que me pases una operación valida.\""
   ]
  },
  {
   "cell_type": "code",
   "execution_count": 50,
   "metadata": {},
   "outputs": [
    {
     "data": {
      "text/plain": [
       "12936"
      ]
     },
     "execution_count": 50,
     "metadata": {},
     "output_type": "execute_result"
    }
   ],
   "source": [
    "calculadora(lista_de_numeros, \"*\")"
   ]
  },
  {
   "cell_type": "code",
   "execution_count": 51,
   "metadata": {},
   "outputs": [
    {
     "data": {
      "text/plain": [
       "214"
      ]
     },
     "execution_count": 51,
     "metadata": {},
     "output_type": "execute_result"
    }
   ],
   "source": [
    "calculadora(lista_de_numeros_2, \"+\")"
   ]
  },
  {
   "cell_type": "code",
   "execution_count": 52,
   "metadata": {},
   "outputs": [
    {
     "data": {
      "text/plain": [
       "'Lo siento necesito que me pases una operación valida.'"
      ]
     },
     "execution_count": 52,
     "metadata": {},
     "output_type": "execute_result"
    }
   ],
   "source": [
    "calculadora(lista_de_numeros_3, \"-\")"
   ]
  }
 ],
 "metadata": {
  "kernelspec": {
   "display_name": "base",
   "language": "python",
   "name": "python3"
  },
  "language_info": {
   "codemirror_mode": {
    "name": "ipython",
    "version": 3
   },
   "file_extension": ".py",
   "mimetype": "text/x-python",
   "name": "python",
   "nbconvert_exporter": "python",
   "pygments_lexer": "ipython3",
   "version": "3.9.7"
  },
  "orig_nbformat": 4,
  "vscode": {
   "interpreter": {
    "hash": "b3191f930eabfdf0eb39086a24df618ea48425015dbb471465fb2c793fed20fd"
   }
  }
 },
 "nbformat": 4,
 "nbformat_minor": 2
}
